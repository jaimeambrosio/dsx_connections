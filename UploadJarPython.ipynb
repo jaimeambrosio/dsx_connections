{
    "nbformat": 4, 
    "cells": [
        {
            "source": "!(cd ~/data/libs ; wget https://github.com/jaimeambrosio/Probando/raw/master/sqljdbc42.jar)", 
            "cell_type": "code", 
            "execution_count": 1, 
            "outputs": [
                {
                    "output_type": "stream", 
                    "name": "stdout", 
                    "text": "--2017-07-21 17:53:31--  https://github.com/jaimeambrosio/Probando/raw/master/sqljdbc42.jar\nResolving github.com (github.com)... 192.30.253.113, 192.30.253.112\nConnecting to github.com (github.com)|192.30.253.113|:443... connected.\nHTTP request sent, awaiting response... 302 Found\nLocation: https://raw.githubusercontent.com/jaimeambrosio/Probando/master/sqljdbc42.jar [following]\n--2017-07-21 17:53:31--  https://raw.githubusercontent.com/jaimeambrosio/Probando/master/sqljdbc42.jar\nResolving raw.githubusercontent.com (raw.githubusercontent.com)... 151.101.48.133\nConnecting to raw.githubusercontent.com (raw.githubusercontent.com)|151.101.48.133|:443... connected.\nHTTP request sent, awaiting response... 200 OK\nLength: 653574 (638K) [application/octet-stream]\nSaving to: \u2018sqljdbc42.jar\u2019\n\n100%[======================================>] 653,574     --.-K/s   in 0.04s   \n\n2017-07-21 17:53:32 (17.1 MB/s) - \u2018sqljdbc42.jar\u2019 saved [653574/653574]\n\n"
                }
            ], 
            "metadata": {}
        }, 
        {
            "source": "", 
            "cell_type": "code", 
            "execution_count": null, 
            "outputs": [], 
            "metadata": {
                "collapsed": true
            }
        }
    ], 
    "nbformat_minor": 1, 
    "metadata": {
        "kernelspec": {
            "display_name": "Python 2 with Spark 2.0", 
            "name": "python2-spark20", 
            "language": "python"
        }, 
        "language_info": {
            "pygments_lexer": "ipython2", 
            "codemirror_mode": {
                "version": 2, 
                "name": "ipython"
            }, 
            "mimetype": "text/x-python", 
            "nbconvert_exporter": "python", 
            "version": "2.7.11", 
            "file_extension": ".py", 
            "name": "python"
        }
    }
}