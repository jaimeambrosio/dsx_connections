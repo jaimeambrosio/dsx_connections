{
    "nbformat": 4, 
    "cells": [
        {
            "source": "# Realizando conexion de prueba", 
            "cell_type": "markdown", 
            "metadata": {}
        }, 
        {
            "source": "Se procede a instalar la libreria de R para JDBC", 
            "cell_type": "markdown", 
            "metadata": {}
        }, 
        {
            "source": "install.packages(\"RJDBC\")", 
            "cell_type": "code", 
            "execution_count": 1, 
            "outputs": [
                {
                    "output_type": "stream", 
                    "name": "stderr", 
                    "text": "Installing package into \u2018/gpfs/global_fs01/sym_shared/YPProdSpark/user/s82c-62d2a49ebf57a7-7cb3c732c210/R/libs\u2019\n(as \u2018lib\u2019 is unspecified)\n"
                }
            ], 
            "metadata": {}
        }, 
        {
            "source": "Se importa la libreria RJDBC", 
            "cell_type": "markdown", 
            "metadata": {}
        }, 
        {
            "source": "library(\"RJDBC\")", 
            "cell_type": "code", 
            "execution_count": 2, 
            "outputs": [
                {
                    "output_type": "stream", 
                    "name": "stderr", 
                    "text": "Loading required package: DBI\nLoading required package: rJava\n"
                }
            ], 
            "metadata": {}
        }, 
        {
            "source": "Incializa el Java VM", 
            "cell_type": "markdown", 
            "metadata": {}
        }, 
        {
            "source": ".jinit()", 
            "cell_type": "code", 
            "execution_count": 3, 
            "outputs": [], 
            "metadata": {
                "collapsed": true
            }
        }, 
        {
            "source": "Especificar la ruta del controlador.\n\"~/data/libs/sqljdbc42.jar\"", 
            "cell_type": "markdown", 
            "metadata": {}
        }, 
        {
            "source": "drv <- JDBC(\"com.microsoft.sqlserver.jdbc.SQLServerDriver\",\"~/data/libs/sqljdbc42.jar\")", 
            "cell_type": "code", 
            "execution_count": 4, 
            "outputs": [], 
            "metadata": {
                "collapsed": true
            }
        }, 
        {
            "source": "conn <- dbConnect(drv, \"jdbc:sqlserver://169.45.195.170:1433;DATABASE=DW\", \"prueba\", \"prueba\")", 
            "cell_type": "code", 
            "execution_count": 5, 
            "outputs": [], 
            "metadata": {
                "collapsed": true
            }
        }, 
        {
            "source": "sqlText <- paste(\" SELECT * FROM prueba\", sep=\"\")", 
            "cell_type": "code", 
            "execution_count": 6, 
            "outputs": [], 
            "metadata": {
                "collapsed": true
            }
        }, 
        {
            "source": "queryResults <- dbGetQuery(conn, sqlText)\ndbDisconnect(conn)\nqueryResults", 
            "cell_type": "code", 
            "execution_count": 7, 
            "outputs": [
                {
                    "output_type": "display_data", 
                    "data": {
                        "text/markdown": "TRUE", 
                        "text/html": "TRUE", 
                        "text/plain": "[1] TRUE", 
                        "text/latex": "TRUE"
                    }, 
                    "metadata": {}
                }, 
                {
                    "output_type": "display_data", 
                    "data": {
                        "text/html": "<table>\n<thead><tr><th scope=col>Periodo</th><th scope=col>Gerencia</th><th scope=col>Gerente</th><th scope=col>Cadena</th><th scope=col>Trx</th><th scope=col>Clientes</th><th scope=col>VtaNS</th><th scope=col>VtaBS</th><th scope=col>Margen</th><th scope=col>Segmento</th></tr></thead>\n<tbody>\n\t<tr><td>201611          </td><td>NON FOOD        </td><td>CAMILA CARRILLO </td><td>WONG            </td><td>10518           </td><td> 5990           </td><td> 265076.8456    </td><td> 312133.01      </td><td>113920.8239     </td><td>5,2             </td></tr>\n\t<tr><td>201611          </td><td>NON FOOD        </td><td>CAMILA CARRILLO </td><td>WONG            </td><td>18580           </td><td>12841           </td><td> 603442.5952    </td><td> 712240.90      </td><td>263794.7731     </td><td>6,2             </td></tr>\n\t<tr><td>201611          </td><td>NON FOOD        </td><td>CAMILA CARRILLO </td><td>WONG            </td><td> 3763           </td><td> 3184           </td><td> 130204.0620    </td><td> 153762.64      </td><td> 58299.6073     </td><td>7,2             </td></tr>\n\t<tr><td>201611          </td><td>FOOD ABARROTES  </td><td>ROSA MARIA GODOY</td><td>WONG            </td><td>   87           </td><td>   19           </td><td>  89940.5541    </td><td> 104742.03      </td><td>   351.3565     </td><td>1,4             </td></tr>\n\t<tr><td>201611          </td><td>FOOD ABARROTES  </td><td>ROSA MARIA GODOY</td><td>WONG            </td><td>  165           </td><td>   37           </td><td>  50967.4460    </td><td>  59821.81      </td><td> -1060.6426     </td><td>3,4             </td></tr>\n\t<tr><td>201611          </td><td>FOOD ABARROTES  </td><td>ROSA MARIA GODOY</td><td>WONG            </td><td>   73           </td><td>    2           </td><td>    615.8902    </td><td>    639.09      </td><td>   124.6523     </td><td>4,4             </td></tr>\n\t<tr><td>201611          </td><td>FOOD ABARROTES  </td><td>ROSA MARIA GODOY</td><td>WONG            </td><td> 2421           </td><td>  177           </td><td>  31444.2415    </td><td>  35476.70      </td><td>  5823.3610     </td><td>5,4             </td></tr>\n\t<tr><td>201611          </td><td>FOOD ABARROTES  </td><td>ROSA MARIA GODOY</td><td>WONG            </td><td>44360           </td><td> 6764           </td><td>1752784.0640    </td><td>2058036.73      </td><td>328008.8984     </td><td>6,4             </td></tr>\n\t<tr><td>201611          </td><td>FOOD ABARROTES  </td><td>ROSA MARIA GODOY</td><td>WONG            </td><td>38159           </td><td> 8698           </td><td>1587366.5070    </td><td>1873785.24      </td><td>321828.4065     </td><td>7,4             </td></tr>\n\t<tr><td>201611          </td><td>FOOD PERECIBLES </td><td>IGNACIO ELIAS   </td><td>WONG            </td><td>   26           </td><td>    8           </td><td>    480.0447    </td><td>    553.54      </td><td>   109.3813     </td><td>1,4             </td></tr>\n</tbody>\n</table>\n", 
                        "text/latex": "\\begin{tabular}{r|llllllllll}\n Periodo & Gerencia & Gerente & Cadena & Trx & Clientes & VtaNS & VtaBS & Margen & Segmento\\\\\n\\hline\n\t 201611           & NON FOOD         & CAMILA CARRILLO  & WONG             & 10518            &  5990            &  265076.8456     &  312133.01       & 113920.8239      & 5,2             \\\\\n\t 201611           & NON FOOD         & CAMILA CARRILLO  & WONG             & 18580            & 12841            &  603442.5952     &  712240.90       & 263794.7731      & 6,2             \\\\\n\t 201611           & NON FOOD         & CAMILA CARRILLO  & WONG             &  3763            &  3184            &  130204.0620     &  153762.64       &  58299.6073      & 7,2             \\\\\n\t 201611           & FOOD ABARROTES   & ROSA MARIA GODOY & WONG             &    87            &    19            &   89940.5541     &  104742.03       &    351.3565      & 1,4             \\\\\n\t 201611           & FOOD ABARROTES   & ROSA MARIA GODOY & WONG             &   165            &    37            &   50967.4460     &   59821.81       &  -1060.6426      & 3,4             \\\\\n\t 201611           & FOOD ABARROTES   & ROSA MARIA GODOY & WONG             &    73            &     2            &     615.8902     &     639.09       &    124.6523      & 4,4             \\\\\n\t 201611           & FOOD ABARROTES   & ROSA MARIA GODOY & WONG             &  2421            &   177            &   31444.2415     &   35476.70       &   5823.3610      & 5,4             \\\\\n\t 201611           & FOOD ABARROTES   & ROSA MARIA GODOY & WONG             & 44360            &  6764            & 1752784.0640     & 2058036.73       & 328008.8984      & 6,4             \\\\\n\t 201611           & FOOD ABARROTES   & ROSA MARIA GODOY & WONG             & 38159            &  8698            & 1587366.5070     & 1873785.24       & 321828.4065      & 7,4             \\\\\n\t 201611           & FOOD PERECIBLES  & IGNACIO ELIAS    & WONG             &    26            &     8            &     480.0447     &     553.54       &    109.3813      & 1,4             \\\\\n\\end{tabular}\n", 
                        "text/plain": "   Periodo Gerencia        Gerente          Cadena Trx   Clientes VtaNS       \n1  201611  NON FOOD        CAMILA CARRILLO  WONG   10518  5990     265076.8456\n2  201611  NON FOOD        CAMILA CARRILLO  WONG   18580 12841     603442.5952\n3  201611  NON FOOD        CAMILA CARRILLO  WONG    3763  3184     130204.0620\n4  201611  FOOD ABARROTES  ROSA MARIA GODOY WONG      87    19      89940.5541\n5  201611  FOOD ABARROTES  ROSA MARIA GODOY WONG     165    37      50967.4460\n6  201611  FOOD ABARROTES  ROSA MARIA GODOY WONG      73     2        615.8902\n7  201611  FOOD ABARROTES  ROSA MARIA GODOY WONG    2421   177      31444.2415\n8  201611  FOOD ABARROTES  ROSA MARIA GODOY WONG   44360  6764    1752784.0640\n9  201611  FOOD ABARROTES  ROSA MARIA GODOY WONG   38159  8698    1587366.5070\n10 201611  FOOD PERECIBLES IGNACIO ELIAS    WONG      26     8        480.0447\n   VtaBS      Margen      Segmento\n1   312133.01 113920.8239 5,2     \n2   712240.90 263794.7731 6,2     \n3   153762.64  58299.6073 7,2     \n4   104742.03    351.3565 1,4     \n5    59821.81  -1060.6426 3,4     \n6      639.09    124.6523 4,4     \n7    35476.70   5823.3610 5,4     \n8  2058036.73 328008.8984 6,4     \n9  1873785.24 321828.4065 7,4     \n10     553.54    109.3813 1,4     "
                    }, 
                    "metadata": {}
                }
            ], 
            "metadata": {}
        }, 
        {
            "source": "write.csv(queryResults,'test.csv')", 
            "cell_type": "code", 
            "execution_count": 8, 
            "outputs": [], 
            "metadata": {
                "collapsed": true
            }
        }, 
        {
            "source": "filePath <- paste(getwd(),'/test.csv',sep=\"\")\nfilePath", 
            "cell_type": "code", 
            "execution_count": 9, 
            "outputs": [
                {
                    "output_type": "display_data", 
                    "data": {
                        "text/markdown": "'/gpfs/global_fs01/sym_shared/YPProdSpark/user/s82c-62d2a49ebf57a7-7cb3c732c210/notebook/work/test.csv'", 
                        "text/html": "'/gpfs/global_fs01/sym_shared/YPProdSpark/user/s82c-62d2a49ebf57a7-7cb3c732c210/notebook/work/test.csv'", 
                        "text/plain": "[1] \"/gpfs/global_fs01/sym_shared/YPProdSpark/user/s82c-62d2a49ebf57a7-7cb3c732c210/notebook/work/test.csv\"", 
                        "text/latex": "'/gpfs/global\\_fs01/sym\\_shared/YPProdSpark/user/s82c-62d2a49ebf57a7-7cb3c732c210/notebook/work/test.csv'"
                    }, 
                    "metadata": {}
                }
            ], 
            "metadata": {}
        }, 
        {
            "source": "myData <- read.csv(file=filePath, header=TRUE, sep=\",\")\nmyData", 
            "cell_type": "code", 
            "execution_count": 10, 
            "outputs": [
                {
                    "output_type": "display_data", 
                    "data": {
                        "text/html": "<table>\n<thead><tr><th scope=col>X</th><th scope=col>Periodo</th><th scope=col>Gerencia</th><th scope=col>Gerente</th><th scope=col>Cadena</th><th scope=col>Trx</th><th scope=col>Clientes</th><th scope=col>VtaNS</th><th scope=col>VtaBS</th><th scope=col>Margen</th><th scope=col>Segmento</th></tr></thead>\n<tbody>\n\t<tr><td> 1              </td><td>201611          </td><td>NON FOOD        </td><td>CAMILA CARRILLO </td><td>WONG            </td><td>10518           </td><td> 5990           </td><td> 265076.8456    </td><td> 312133.01      </td><td>113920.8239     </td><td>5,2             </td></tr>\n\t<tr><td> 2              </td><td>201611          </td><td>NON FOOD        </td><td>CAMILA CARRILLO </td><td>WONG            </td><td>18580           </td><td>12841           </td><td> 603442.5952    </td><td> 712240.90      </td><td>263794.7731     </td><td>6,2             </td></tr>\n\t<tr><td> 3              </td><td>201611          </td><td>NON FOOD        </td><td>CAMILA CARRILLO </td><td>WONG            </td><td> 3763           </td><td> 3184           </td><td> 130204.0620    </td><td> 153762.64      </td><td> 58299.6073     </td><td>7,2             </td></tr>\n\t<tr><td> 4              </td><td>201611          </td><td>FOOD ABARROTES  </td><td>ROSA MARIA GODOY</td><td>WONG            </td><td>   87           </td><td>   19           </td><td>  89940.5541    </td><td> 104742.03      </td><td>   351.3565     </td><td>1,4             </td></tr>\n\t<tr><td> 5              </td><td>201611          </td><td>FOOD ABARROTES  </td><td>ROSA MARIA GODOY</td><td>WONG            </td><td>  165           </td><td>   37           </td><td>  50967.4460    </td><td>  59821.81      </td><td> -1060.6426     </td><td>3,4             </td></tr>\n\t<tr><td> 6              </td><td>201611          </td><td>FOOD ABARROTES  </td><td>ROSA MARIA GODOY</td><td>WONG            </td><td>   73           </td><td>    2           </td><td>    615.8902    </td><td>    639.09      </td><td>   124.6523     </td><td>4,4             </td></tr>\n\t<tr><td> 7              </td><td>201611          </td><td>FOOD ABARROTES  </td><td>ROSA MARIA GODOY</td><td>WONG            </td><td> 2421           </td><td>  177           </td><td>  31444.2415    </td><td>  35476.70      </td><td>  5823.3610     </td><td>5,4             </td></tr>\n\t<tr><td> 8              </td><td>201611          </td><td>FOOD ABARROTES  </td><td>ROSA MARIA GODOY</td><td>WONG            </td><td>44360           </td><td> 6764           </td><td>1752784.0640    </td><td>2058036.73      </td><td>328008.8984     </td><td>6,4             </td></tr>\n\t<tr><td> 9              </td><td>201611          </td><td>FOOD ABARROTES  </td><td>ROSA MARIA GODOY</td><td>WONG            </td><td>38159           </td><td> 8698           </td><td>1587366.5070    </td><td>1873785.24      </td><td>321828.4065     </td><td>7,4             </td></tr>\n\t<tr><td>10              </td><td>201611          </td><td>FOOD PERECIBLES </td><td>IGNACIO ELIAS   </td><td>WONG            </td><td>   26           </td><td>    8           </td><td>    480.0447    </td><td>    553.54      </td><td>   109.3813     </td><td>1,4             </td></tr>\n</tbody>\n</table>\n", 
                        "text/latex": "\\begin{tabular}{r|lllllllllll}\n X & Periodo & Gerencia & Gerente & Cadena & Trx & Clientes & VtaNS & VtaBS & Margen & Segmento\\\\\n\\hline\n\t  1               & 201611           & NON FOOD         & CAMILA CARRILLO  & WONG             & 10518            &  5990            &  265076.8456     &  312133.01       & 113920.8239      & 5,2             \\\\\n\t  2               & 201611           & NON FOOD         & CAMILA CARRILLO  & WONG             & 18580            & 12841            &  603442.5952     &  712240.90       & 263794.7731      & 6,2             \\\\\n\t  3               & 201611           & NON FOOD         & CAMILA CARRILLO  & WONG             &  3763            &  3184            &  130204.0620     &  153762.64       &  58299.6073      & 7,2             \\\\\n\t  4               & 201611           & FOOD ABARROTES   & ROSA MARIA GODOY & WONG             &    87            &    19            &   89940.5541     &  104742.03       &    351.3565      & 1,4             \\\\\n\t  5               & 201611           & FOOD ABARROTES   & ROSA MARIA GODOY & WONG             &   165            &    37            &   50967.4460     &   59821.81       &  -1060.6426      & 3,4             \\\\\n\t  6               & 201611           & FOOD ABARROTES   & ROSA MARIA GODOY & WONG             &    73            &     2            &     615.8902     &     639.09       &    124.6523      & 4,4             \\\\\n\t  7               & 201611           & FOOD ABARROTES   & ROSA MARIA GODOY & WONG             &  2421            &   177            &   31444.2415     &   35476.70       &   5823.3610      & 5,4             \\\\\n\t  8               & 201611           & FOOD ABARROTES   & ROSA MARIA GODOY & WONG             & 44360            &  6764            & 1752784.0640     & 2058036.73       & 328008.8984      & 6,4             \\\\\n\t  9               & 201611           & FOOD ABARROTES   & ROSA MARIA GODOY & WONG             & 38159            &  8698            & 1587366.5070     & 1873785.24       & 321828.4065      & 7,4             \\\\\n\t 10               & 201611           & FOOD PERECIBLES  & IGNACIO ELIAS    & WONG             &    26            &     8            &     480.0447     &     553.54       &    109.3813      & 1,4             \\\\\n\\end{tabular}\n", 
                        "text/plain": "   X  Periodo Gerencia        Gerente          Cadena Trx   Clientes\n1   1 201611  NON FOOD        CAMILA CARRILLO  WONG   10518  5990   \n2   2 201611  NON FOOD        CAMILA CARRILLO  WONG   18580 12841   \n3   3 201611  NON FOOD        CAMILA CARRILLO  WONG    3763  3184   \n4   4 201611  FOOD ABARROTES  ROSA MARIA GODOY WONG      87    19   \n5   5 201611  FOOD ABARROTES  ROSA MARIA GODOY WONG     165    37   \n6   6 201611  FOOD ABARROTES  ROSA MARIA GODOY WONG      73     2   \n7   7 201611  FOOD ABARROTES  ROSA MARIA GODOY WONG    2421   177   \n8   8 201611  FOOD ABARROTES  ROSA MARIA GODOY WONG   44360  6764   \n9   9 201611  FOOD ABARROTES  ROSA MARIA GODOY WONG   38159  8698   \n10 10 201611  FOOD PERECIBLES IGNACIO ELIAS    WONG      26     8   \n   VtaNS        VtaBS      Margen      Segmento\n1   265076.8456  312133.01 113920.8239 5,2     \n2   603442.5952  712240.90 263794.7731 6,2     \n3   130204.0620  153762.64  58299.6073 7,2     \n4    89940.5541  104742.03    351.3565 1,4     \n5    50967.4460   59821.81  -1060.6426 3,4     \n6      615.8902     639.09    124.6523 4,4     \n7    31444.2415   35476.70   5823.3610 5,4     \n8  1752784.0640 2058036.73 328008.8984 6,4     \n9  1587366.5070 1873785.24 321828.4065 7,4     \n10     480.0447     553.54    109.3813 1,4     "
                    }, 
                    "metadata": {}
                }
            ], 
            "metadata": {}
        }, 
        {
            "source": "install.packages('devtools')\nlibrary(devtools)\ninstall_github('IBMDataScience/objectStoreR') #installs the package\nlibrary('objectStoreR')  #loads the package for use", 
            "cell_type": "code", 
            "execution_count": 11, 
            "outputs": [
                {
                    "output_type": "stream", 
                    "name": "stderr", 
                    "text": "Installing package into \u2018/gpfs/global_fs01/sym_shared/YPProdSpark/user/s82c-62d2a49ebf57a7-7cb3c732c210/R/libs\u2019\n(as \u2018lib\u2019 is unspecified)\nSkipping install of 'objectStoreR' from a github remote, the SHA1 (d6a07c5b) has not changed since last install.\n  Use `force = TRUE` to force installation\n"
                }
            ], 
            "metadata": {}
        }, 
        {
            "source": "credenciales <-list(auth_url = \"https://identity.open.softlayer.com\"\n                    ,project = \"object_storage_e3bffb53_aec5_40fc_b2d0_970dda55fe55\"\n                    ,project_id = \"2381e8da6c664819af181c42d33d4e22\"\n                    ,region = \"dallas\"\n                    ,user_id = \"096e9e5826a942018601c95cc55289d8\"\n                    ,domain_id = \"6c594b09b561408996b010e778f9c271\"\n                    ,domain_name =  \"1399205\"\n                    ,username = \"member_ecb611fbce8f254db133b52940aebc87a9d229fb\"\n                    ,password = \"mjgd?9oFwcFPZ-80\"\n                    ,container = \"DefaultProjectjaimebestvpntop\")", 
            "cell_type": "code", 
            "execution_count": 21, 
            "outputs": [], 
            "metadata": {
                "collapsed": true
            }
        }, 
        {
            "source": "status<- objectStore.put(credenciales,filePath)\nstatus  #201 es ok", 
            "cell_type": "code", 
            "execution_count": 23, 
            "outputs": [
                {
                    "output_type": "stream", 
                    "name": "stdout", 
                    "text": "\n"
                }, 
                {
                    "output_type": "display_data", 
                    "data": {
                        "text/markdown": "201", 
                        "text/html": "201", 
                        "text/plain": "[1] 201", 
                        "text/latex": "201"
                    }, 
                    "metadata": {}
                }
            ], 
            "metadata": {}
        }, 
        {
            "source": "credenciales <-list(auth_url = \"https://identity.open.softlayer.com\"\n                    ,project = \"object_storage_e3bffb53_aec5_40fc_b2d0_970dda55fe55\"\n                    ,project_id = \"2381e8da6c664819af181c42d33d4e22\"\n                    ,region = \"dallas\"\n                    ,user_id = \"096e9e5826a942018601c95cc55289d8\"\n                    ,domain_id = \"6c594b09b561408996b010e778f9c271\"\n                    ,domain_name =  \"1399205\"\n                    ,username = \"member_ecb611fbce8f254db133b52940aebc87a9d229fb\"\n                    ,password = \"mjgd?9oFwcFPZ-80\"\n                    ,container = \"DefaultProjectjaimebestvpntop\"\n                    , filename = \"test.csv\")  #a\u00f1adir el nombre del archivo", 
            "cell_type": "code", 
            "execution_count": 24, 
            "outputs": [], 
            "metadata": {
                "collapsed": true
            }
        }, 
        {
            "source": "df <- objectStore.get(credenciales)\ndf", 
            "cell_type": "code", 
            "execution_count": 25, 
            "outputs": [
                {
                    "output_type": "stream", 
                    "name": "stdout", 
                    "text": "\n"
                }, 
                {
                    "output_type": "stream", 
                    "name": "stderr", 
                    "text": "No encoding supplied: defaulting to UTF-8.\n"
                }, 
                {
                    "output_type": "display_data", 
                    "data": {
                        "text/html": "<table>\n<thead><tr><th scope=col>X</th><th scope=col>Periodo</th><th scope=col>Gerencia</th><th scope=col>Gerente</th><th scope=col>Cadena</th><th scope=col>Trx</th><th scope=col>Clientes</th><th scope=col>VtaNS</th><th scope=col>VtaBS</th><th scope=col>Margen</th><th scope=col>Segmento</th></tr></thead>\n<tbody>\n\t<tr><td> 1              </td><td>201611          </td><td>NON FOOD        </td><td>CAMILA CARRILLO </td><td>WONG            </td><td>10518           </td><td> 5990           </td><td> 265076.8456    </td><td> 312133.01      </td><td>113920.8239     </td><td>5,2             </td></tr>\n\t<tr><td> 2              </td><td>201611          </td><td>NON FOOD        </td><td>CAMILA CARRILLO </td><td>WONG            </td><td>18580           </td><td>12841           </td><td> 603442.5952    </td><td> 712240.90      </td><td>263794.7731     </td><td>6,2             </td></tr>\n\t<tr><td> 3              </td><td>201611          </td><td>NON FOOD        </td><td>CAMILA CARRILLO </td><td>WONG            </td><td> 3763           </td><td> 3184           </td><td> 130204.0620    </td><td> 153762.64      </td><td> 58299.6073     </td><td>7,2             </td></tr>\n\t<tr><td> 4              </td><td>201611          </td><td>FOOD ABARROTES  </td><td>ROSA MARIA GODOY</td><td>WONG            </td><td>   87           </td><td>   19           </td><td>  89940.5541    </td><td> 104742.03      </td><td>   351.3565     </td><td>1,4             </td></tr>\n\t<tr><td> 5              </td><td>201611          </td><td>FOOD ABARROTES  </td><td>ROSA MARIA GODOY</td><td>WONG            </td><td>  165           </td><td>   37           </td><td>  50967.4460    </td><td>  59821.81      </td><td> -1060.6426     </td><td>3,4             </td></tr>\n\t<tr><td> 6              </td><td>201611          </td><td>FOOD ABARROTES  </td><td>ROSA MARIA GODOY</td><td>WONG            </td><td>   73           </td><td>    2           </td><td>    615.8902    </td><td>    639.09      </td><td>   124.6523     </td><td>4,4             </td></tr>\n\t<tr><td> 7              </td><td>201611          </td><td>FOOD ABARROTES  </td><td>ROSA MARIA GODOY</td><td>WONG            </td><td> 2421           </td><td>  177           </td><td>  31444.2415    </td><td>  35476.70      </td><td>  5823.3610     </td><td>5,4             </td></tr>\n\t<tr><td> 8              </td><td>201611          </td><td>FOOD ABARROTES  </td><td>ROSA MARIA GODOY</td><td>WONG            </td><td>44360           </td><td> 6764           </td><td>1752784.0640    </td><td>2058036.73      </td><td>328008.8984     </td><td>6,4             </td></tr>\n\t<tr><td> 9              </td><td>201611          </td><td>FOOD ABARROTES  </td><td>ROSA MARIA GODOY</td><td>WONG            </td><td>38159           </td><td> 8698           </td><td>1587366.5070    </td><td>1873785.24      </td><td>321828.4065     </td><td>7,4             </td></tr>\n\t<tr><td>10              </td><td>201611          </td><td>FOOD PERECIBLES </td><td>IGNACIO ELIAS   </td><td>WONG            </td><td>   26           </td><td>    8           </td><td>    480.0447    </td><td>    553.54      </td><td>   109.3813     </td><td>1,4             </td></tr>\n</tbody>\n</table>\n", 
                        "text/latex": "\\begin{tabular}{r|lllllllllll}\n X & Periodo & Gerencia & Gerente & Cadena & Trx & Clientes & VtaNS & VtaBS & Margen & Segmento\\\\\n\\hline\n\t  1               & 201611           & NON FOOD         & CAMILA CARRILLO  & WONG             & 10518            &  5990            &  265076.8456     &  312133.01       & 113920.8239      & 5,2             \\\\\n\t  2               & 201611           & NON FOOD         & CAMILA CARRILLO  & WONG             & 18580            & 12841            &  603442.5952     &  712240.90       & 263794.7731      & 6,2             \\\\\n\t  3               & 201611           & NON FOOD         & CAMILA CARRILLO  & WONG             &  3763            &  3184            &  130204.0620     &  153762.64       &  58299.6073      & 7,2             \\\\\n\t  4               & 201611           & FOOD ABARROTES   & ROSA MARIA GODOY & WONG             &    87            &    19            &   89940.5541     &  104742.03       &    351.3565      & 1,4             \\\\\n\t  5               & 201611           & FOOD ABARROTES   & ROSA MARIA GODOY & WONG             &   165            &    37            &   50967.4460     &   59821.81       &  -1060.6426      & 3,4             \\\\\n\t  6               & 201611           & FOOD ABARROTES   & ROSA MARIA GODOY & WONG             &    73            &     2            &     615.8902     &     639.09       &    124.6523      & 4,4             \\\\\n\t  7               & 201611           & FOOD ABARROTES   & ROSA MARIA GODOY & WONG             &  2421            &   177            &   31444.2415     &   35476.70       &   5823.3610      & 5,4             \\\\\n\t  8               & 201611           & FOOD ABARROTES   & ROSA MARIA GODOY & WONG             & 44360            &  6764            & 1752784.0640     & 2058036.73       & 328008.8984      & 6,4             \\\\\n\t  9               & 201611           & FOOD ABARROTES   & ROSA MARIA GODOY & WONG             & 38159            &  8698            & 1587366.5070     & 1873785.24       & 321828.4065      & 7,4             \\\\\n\t 10               & 201611           & FOOD PERECIBLES  & IGNACIO ELIAS    & WONG             &    26            &     8            &     480.0447     &     553.54       &    109.3813      & 1,4             \\\\\n\\end{tabular}\n", 
                        "text/plain": "   X  Periodo Gerencia        Gerente          Cadena Trx   Clientes\n1   1 201611  NON FOOD        CAMILA CARRILLO  WONG   10518  5990   \n2   2 201611  NON FOOD        CAMILA CARRILLO  WONG   18580 12841   \n3   3 201611  NON FOOD        CAMILA CARRILLO  WONG    3763  3184   \n4   4 201611  FOOD ABARROTES  ROSA MARIA GODOY WONG      87    19   \n5   5 201611  FOOD ABARROTES  ROSA MARIA GODOY WONG     165    37   \n6   6 201611  FOOD ABARROTES  ROSA MARIA GODOY WONG      73     2   \n7   7 201611  FOOD ABARROTES  ROSA MARIA GODOY WONG    2421   177   \n8   8 201611  FOOD ABARROTES  ROSA MARIA GODOY WONG   44360  6764   \n9   9 201611  FOOD ABARROTES  ROSA MARIA GODOY WONG   38159  8698   \n10 10 201611  FOOD PERECIBLES IGNACIO ELIAS    WONG      26     8   \n   VtaNS        VtaBS      Margen      Segmento\n1   265076.8456  312133.01 113920.8239 5,2     \n2   603442.5952  712240.90 263794.7731 6,2     \n3   130204.0620  153762.64  58299.6073 7,2     \n4    89940.5541  104742.03    351.3565 1,4     \n5    50967.4460   59821.81  -1060.6426 3,4     \n6      615.8902     639.09    124.6523 4,4     \n7    31444.2415   35476.70   5823.3610 5,4     \n8  1752784.0640 2058036.73 328008.8984 6,4     \n9  1587366.5070 1873785.24 321828.4065 7,4     \n10     480.0447     553.54    109.3813 1,4     "
                    }, 
                    "metadata": {}
                }
            ], 
            "metadata": {}
        }
    ], 
    "nbformat_minor": 1, 
    "metadata": {
        "kernelspec": {
            "display_name": "R with Spark 2.0", 
            "name": "r-spark20", 
            "language": "R"
        }, 
        "language_info": {
            "pygments_lexer": "r", 
            "codemirror_mode": "r", 
            "mimetype": "text/x-r-source", 
            "version": "3.3.2", 
            "file_extension": ".r", 
            "name": "R"
        }
    }
}