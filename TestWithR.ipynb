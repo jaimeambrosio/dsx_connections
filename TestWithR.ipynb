{
    "nbformat_minor": 1, 
    "cells": [
        {
            "cell_type": "markdown", 
            "metadata": {}, 
            "source": "# Realizando conexion de prueba"
        }, 
        {
            "cell_type": "markdown", 
            "metadata": {}, 
            "source": "Se procede a instalar la libreria de R para JDBC"
        }, 
        {
            "cell_type": "code", 
            "metadata": {}, 
            "source": "install.packages(\"RJDBC\")", 
            "execution_count": 1, 
            "outputs": [
                {
                    "name": "stderr", 
                    "output_type": "stream", 
                    "text": "Installing package into \u2018/gpfs/global_fs01/sym_shared/YPProdSpark/user/s82c-62d2a49ebf57a7-7cb3c732c210/R/libs\u2019\n(as \u2018lib\u2019 is unspecified)\n"
                }
            ]
        }, 
        {
            "cell_type": "markdown", 
            "metadata": {}, 
            "source": "Se importa la libreria RJDBC"
        }, 
        {
            "cell_type": "code", 
            "metadata": {}, 
            "source": "library(\"RJDBC\")", 
            "execution_count": 2, 
            "outputs": [
                {
                    "name": "stderr", 
                    "output_type": "stream", 
                    "text": "Loading required package: DBI\nLoading required package: rJava\n"
                }
            ]
        }, 
        {
            "cell_type": "markdown", 
            "metadata": {}, 
            "source": "Incializa el Java VM"
        }, 
        {
            "cell_type": "code", 
            "metadata": {
                "collapsed": true
            }, 
            "source": ".jinit()", 
            "execution_count": 3, 
            "outputs": []
        }, 
        {
            "cell_type": "markdown", 
            "metadata": {}, 
            "source": "Especificar la ruta del controlador.\n\"~/data/libs/sqljdbc42.jar\""
        }, 
        {
            "cell_type": "code", 
            "metadata": {}, 
            "source": "drv <- JDBC(\"com.microsoft.sqlserver.jdbc.SQLServerDriver\",\"~/data/libs/sqljdbc42.jar\")", 
            "execution_count": 20, 
            "outputs": []
        }, 
        {
            "cell_type": "code", 
            "metadata": {
                "collapsed": true
            }, 
            "source": "conn <- dbConnect(drv, \"jdbc:sqlserver://169.45.195.170\", \"prueba\", \"prueba\")", 
            "execution_count": 21, 
            "outputs": []
        }, 
        {
            "cell_type": "code", 
            "metadata": {
                "collapsed": true
            }, 
            "source": " conn <- dbConnect(drv, \"jdbc:sqlserver://169.45.195.170:1433;DATABASE=DW\", \"prueba\", \"prueba\")", 
            "execution_count": 22, 
            "outputs": []
        }, 
        {
            "cell_type": "code", 
            "metadata": {
                "collapsed": true
            }, 
            "source": "sqlText <- paste(\" SELECT * FROM prueba\", sep=\"\")", 
            "execution_count": 23, 
            "outputs": []
        }, 
        {
            "cell_type": "code", 
            "metadata": {
                "collapsed": true
            }, 
            "source": "queryResults <- dbGetQuery(conn, sqlText)", 
            "execution_count": 24, 
            "outputs": []
        }, 
        {
            "cell_type": "code", 
            "metadata": {}, 
            "source": "queryResults", 
            "execution_count": 26, 
            "outputs": [
                {
                    "data": {
                        "text/html": "<table>\n<thead><tr><th scope=col>Periodo</th><th scope=col>Gerencia</th><th scope=col>Gerente</th><th scope=col>Cadena</th><th scope=col>Trx</th><th scope=col>Clientes</th><th scope=col>VtaNS</th><th scope=col>VtaBS</th><th scope=col>Margen</th><th scope=col>Segmento</th></tr></thead>\n<tbody>\n\t<tr><td>201611          </td><td>NON FOOD        </td><td>CAMILA CARRILLO </td><td>WONG            </td><td>10518           </td><td> 5990           </td><td> 265076.8456    </td><td> 312133.01      </td><td>113920.8239     </td><td>5,2             </td></tr>\n\t<tr><td>201611          </td><td>NON FOOD        </td><td>CAMILA CARRILLO </td><td>WONG            </td><td>18580           </td><td>12841           </td><td> 603442.5952    </td><td> 712240.90      </td><td>263794.7731     </td><td>6,2             </td></tr>\n\t<tr><td>201611          </td><td>NON FOOD        </td><td>CAMILA CARRILLO </td><td>WONG            </td><td> 3763           </td><td> 3184           </td><td> 130204.0620    </td><td> 153762.64      </td><td> 58299.6073     </td><td>7,2             </td></tr>\n\t<tr><td>201611          </td><td>FOOD ABARROTES  </td><td>ROSA MARIA GODOY</td><td>WONG            </td><td>   87           </td><td>   19           </td><td>  89940.5541    </td><td> 104742.03      </td><td>   351.3565     </td><td>1,4             </td></tr>\n\t<tr><td>201611          </td><td>FOOD ABARROTES  </td><td>ROSA MARIA GODOY</td><td>WONG            </td><td>  165           </td><td>   37           </td><td>  50967.4460    </td><td>  59821.81      </td><td> -1060.6426     </td><td>3,4             </td></tr>\n\t<tr><td>201611          </td><td>FOOD ABARROTES  </td><td>ROSA MARIA GODOY</td><td>WONG            </td><td>   73           </td><td>    2           </td><td>    615.8902    </td><td>    639.09      </td><td>   124.6523     </td><td>4,4             </td></tr>\n\t<tr><td>201611          </td><td>FOOD ABARROTES  </td><td>ROSA MARIA GODOY</td><td>WONG            </td><td> 2421           </td><td>  177           </td><td>  31444.2415    </td><td>  35476.70      </td><td>  5823.3610     </td><td>5,4             </td></tr>\n\t<tr><td>201611          </td><td>FOOD ABARROTES  </td><td>ROSA MARIA GODOY</td><td>WONG            </td><td>44360           </td><td> 6764           </td><td>1752784.0640    </td><td>2058036.73      </td><td>328008.8984     </td><td>6,4             </td></tr>\n\t<tr><td>201611          </td><td>FOOD ABARROTES  </td><td>ROSA MARIA GODOY</td><td>WONG            </td><td>38159           </td><td> 8698           </td><td>1587366.5070    </td><td>1873785.24      </td><td>321828.4065     </td><td>7,4             </td></tr>\n\t<tr><td>201611          </td><td>FOOD PERECIBLES </td><td>IGNACIO ELIAS   </td><td>WONG            </td><td>   26           </td><td>    8           </td><td>    480.0447    </td><td>    553.54      </td><td>   109.3813     </td><td>1,4             </td></tr>\n</tbody>\n</table>\n", 
                        "text/latex": "\\begin{tabular}{r|llllllllll}\n Periodo & Gerencia & Gerente & Cadena & Trx & Clientes & VtaNS & VtaBS & Margen & Segmento\\\\\n\\hline\n\t 201611           & NON FOOD         & CAMILA CARRILLO  & WONG             & 10518            &  5990            &  265076.8456     &  312133.01       & 113920.8239      & 5,2             \\\\\n\t 201611           & NON FOOD         & CAMILA CARRILLO  & WONG             & 18580            & 12841            &  603442.5952     &  712240.90       & 263794.7731      & 6,2             \\\\\n\t 201611           & NON FOOD         & CAMILA CARRILLO  & WONG             &  3763            &  3184            &  130204.0620     &  153762.64       &  58299.6073      & 7,2             \\\\\n\t 201611           & FOOD ABARROTES   & ROSA MARIA GODOY & WONG             &    87            &    19            &   89940.5541     &  104742.03       &    351.3565      & 1,4             \\\\\n\t 201611           & FOOD ABARROTES   & ROSA MARIA GODOY & WONG             &   165            &    37            &   50967.4460     &   59821.81       &  -1060.6426      & 3,4             \\\\\n\t 201611           & FOOD ABARROTES   & ROSA MARIA GODOY & WONG             &    73            &     2            &     615.8902     &     639.09       &    124.6523      & 4,4             \\\\\n\t 201611           & FOOD ABARROTES   & ROSA MARIA GODOY & WONG             &  2421            &   177            &   31444.2415     &   35476.70       &   5823.3610      & 5,4             \\\\\n\t 201611           & FOOD ABARROTES   & ROSA MARIA GODOY & WONG             & 44360            &  6764            & 1752784.0640     & 2058036.73       & 328008.8984      & 6,4             \\\\\n\t 201611           & FOOD ABARROTES   & ROSA MARIA GODOY & WONG             & 38159            &  8698            & 1587366.5070     & 1873785.24       & 321828.4065      & 7,4             \\\\\n\t 201611           & FOOD PERECIBLES  & IGNACIO ELIAS    & WONG             &    26            &     8            &     480.0447     &     553.54       &    109.3813      & 1,4             \\\\\n\\end{tabular}\n", 
                        "text/plain": "   Periodo Gerencia        Gerente          Cadena Trx   Clientes VtaNS       \n1  201611  NON FOOD        CAMILA CARRILLO  WONG   10518  5990     265076.8456\n2  201611  NON FOOD        CAMILA CARRILLO  WONG   18580 12841     603442.5952\n3  201611  NON FOOD        CAMILA CARRILLO  WONG    3763  3184     130204.0620\n4  201611  FOOD ABARROTES  ROSA MARIA GODOY WONG      87    19      89940.5541\n5  201611  FOOD ABARROTES  ROSA MARIA GODOY WONG     165    37      50967.4460\n6  201611  FOOD ABARROTES  ROSA MARIA GODOY WONG      73     2        615.8902\n7  201611  FOOD ABARROTES  ROSA MARIA GODOY WONG    2421   177      31444.2415\n8  201611  FOOD ABARROTES  ROSA MARIA GODOY WONG   44360  6764    1752784.0640\n9  201611  FOOD ABARROTES  ROSA MARIA GODOY WONG   38159  8698    1587366.5070\n10 201611  FOOD PERECIBLES IGNACIO ELIAS    WONG      26     8        480.0447\n   VtaBS      Margen      Segmento\n1   312133.01 113920.8239 5,2     \n2   712240.90 263794.7731 6,2     \n3   153762.64  58299.6073 7,2     \n4   104742.03    351.3565 1,4     \n5    59821.81  -1060.6426 3,4     \n6      639.09    124.6523 4,4     \n7    35476.70   5823.3610 5,4     \n8  2058036.73 328008.8984 6,4     \n9  1873785.24 321828.4065 7,4     \n10     553.54    109.3813 1,4     "
                    }, 
                    "output_type": "display_data", 
                    "metadata": {}
                }
            ]
        }, 
        {
            "cell_type": "code", 
            "metadata": {
                "collapsed": true
            }, 
            "source": "", 
            "execution_count": null, 
            "outputs": []
        }
    ], 
    "metadata": {
        "kernelspec": {
            "display_name": "R with Spark 2.0", 
            "language": "R", 
            "name": "r-spark20"
        }, 
        "language_info": {
            "version": "3.3.2", 
            "mimetype": "text/x-r-source", 
            "pygments_lexer": "r", 
            "codemirror_mode": "r", 
            "file_extension": ".r", 
            "name": "R"
        }
    }, 
    "nbformat": 4
}